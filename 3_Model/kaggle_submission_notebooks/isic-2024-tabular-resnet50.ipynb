{
 "cells": [
  {
   "cell_type": "code",
   "execution_count": 1,
   "id": "0ce34fc0",
   "metadata": {
    "_cell_guid": "b1076dfc-b9ad-4769-8c92-a6c4dae69d19",
    "_uuid": "8f2839f25d086af736a60e9eeb907d3b93b6e0e5",
    "execution": {
     "iopub.execute_input": "2025-02-06T14:13:36.245542Z",
     "iopub.status.busy": "2025-02-06T14:13:36.245176Z",
     "iopub.status.idle": "2025-02-06T14:13:40.013614Z",
     "shell.execute_reply": "2025-02-06T14:13:40.012605Z"
    },
    "papermill": {
     "duration": 3.776423,
     "end_time": "2025-02-06T14:13:40.015893",
     "exception": false,
     "start_time": "2025-02-06T14:13:36.239470",
     "status": "completed"
    },
    "tags": []
   },
   "outputs": [],
   "source": [
    "import os\n",
    "import itertools\n",
    "from pathlib import Path\n",
    "\n",
    "import numpy as np\n",
    "import pandas as pd\n",
    "import polars as pl\n",
    "\n",
    "from sklearn.model_selection import StratifiedGroupKFold\n",
    "from sklearn.model_selection import cross_val_score\n",
    "from sklearn.preprocessing import OneHotEncoder\n",
    "from sklearn.metrics import roc_auc_score\n",
    "from sklearn.ensemble import VotingClassifier\n",
    "\n",
    "from imblearn.under_sampling import RandomUnderSampler\n",
    "from imblearn.pipeline import Pipeline\n",
    "from catboost import CatBoostClassifier\n",
    "\n",
    "import lightgbm as lgb\n",
    "\n",
    "import warnings\n",
    "warnings.filterwarnings(\"ignore\")"
   ]
  },
  {
   "cell_type": "code",
   "execution_count": 2,
   "id": "638208db",
   "metadata": {
    "execution": {
     "iopub.execute_input": "2025-02-06T14:13:40.026510Z",
     "iopub.status.busy": "2025-02-06T14:13:40.026031Z",
     "iopub.status.idle": "2025-02-06T14:13:40.038503Z",
     "shell.execute_reply": "2025-02-06T14:13:40.037612Z"
    },
    "papermill": {
     "duration": 0.019876,
     "end_time": "2025-02-06T14:13:40.040307",
     "exception": false,
     "start_time": "2025-02-06T14:13:40.020431",
     "status": "completed"
    },
    "tags": []
   },
   "outputs": [],
   "source": [
    "root = Path('/kaggle/input/isic-2024-challenge')\n",
    "\n",
    "train_path = root / 'train-metadata.csv'\n",
    "test_path = root / 'test-metadata.csv'\n",
    "subm_path = root / 'sample_submission.csv'\n",
    "\n",
    "id_col = 'isic_id'\n",
    "target_col = 'target'\n",
    "group_col = 'patient_id'\n",
    "\n",
    "err = 1e-5\n",
    "sampling_ratio = 0.01\n",
    "seed = 42\n",
    "\n",
    "num_cols = [\n",
    "    'age_approx',                        # Approximate age of patient at time of imaging.\n",
    "    'clin_size_long_diam_mm',            # Maximum diameter of the lesion (mm).+\n",
    "    'tbp_lv_A',                          # A inside  lesion.+\n",
    "    'tbp_lv_Aext',                       # A outside lesion.+\n",
    "    'tbp_lv_B',                          # B inside  lesion.+\n",
    "    'tbp_lv_Bext',                       # B outside lesion.+ \n",
    "    'tbp_lv_C',                          # Chroma inside  lesion.+\n",
    "    'tbp_lv_Cext',                       # Chroma outside lesion.+\n",
    "    'tbp_lv_H',                          # Hue inside the lesion; calculated as the angle of A* and B* in LAB* color space. Typical values range from 25 (red) to 75 (brown).+\n",
    "    'tbp_lv_Hext',                       # Hue outside lesion.+\n",
    "    'tbp_lv_L',                          # L inside lesion.+\n",
    "    'tbp_lv_Lext',                       # L outside lesion.+\n",
    "    'tbp_lv_areaMM2',                    # Area of lesion (mm^2).+\n",
    "    'tbp_lv_area_perim_ratio',           # Border jaggedness, the ratio between lesions perimeter and area. Circular lesions will have low values; irregular shaped lesions will have higher values. Values range 0-10.+\n",
    "    'tbp_lv_color_std_mean',             # Color irregularity, calculated as the variance of colors within the lesion's boundary.\n",
    "    'tbp_lv_deltaA',                     # Average A contrast (inside vs. outside lesion).+\n",
    "    'tbp_lv_deltaB',                     # Average B contrast (inside vs. outside lesion).+\n",
    "    'tbp_lv_deltaL',                     # Average L contrast (inside vs. outside lesion).+\n",
    "    'tbp_lv_deltaLB',                    #\n",
    "    'tbp_lv_deltaLBnorm',                # Contrast between the lesion and its immediate surrounding skin. Low contrast lesions tend to be faintly visible such as freckles; high contrast lesions tend to be those with darker pigment. Calculated as the average delta LB of the lesion relative to its immediate background in LAB* color space. Typical values range from 5.5 to 25.+\n",
    "    'tbp_lv_eccentricity',               # Eccentricity.+\n",
    "    'tbp_lv_minorAxisMM',                # Smallest lesion diameter (mm).+\n",
    "    'tbp_lv_nevi_confidence',            # Nevus confidence score (0-100 scale) is a convolutional neural network classifier estimated probability that the lesion is a nevus. The neural network was trained on approximately 57,000 lesions that were classified and labeled by a dermatologist.+,++\n",
    "    'tbp_lv_norm_border',                # Border irregularity (0-10 scale); the normalized average of border jaggedness and asymmetry.+\n",
    "    'tbp_lv_norm_color',                 # Color variation (0-10 scale); the normalized average of color asymmetry and color irregularity.+\n",
    "    'tbp_lv_perimeterMM',                # Perimeter of lesion (mm).+\n",
    "    'tbp_lv_radial_color_std_max',       # Color asymmetry, a measure of asymmetry of the spatial distribution of color within the lesion. This score is calculated by looking at the average standard deviation in LAB* color space within concentric rings originating from the lesion center. Values range 0-10.+\n",
    "    'tbp_lv_stdL',                       # Standard deviation of L inside  lesion.+\n",
    "    'tbp_lv_stdLExt',                    # Standard deviation of L outside lesion.+\n",
    "    'tbp_lv_symm_2axis',                 # Border asymmetry; a measure of asymmetry of the lesion's contour about an axis perpendicular to the lesion's most symmetric axis. Lesions with two axes of symmetry will therefore have low scores (more symmetric), while lesions with only one or zero axes of symmetry will have higher scores (less symmetric). This score is calculated by comparing opposite halves of the lesion contour over many degrees of rotation. The angle where the halves are most similar identifies the principal axis of symmetry, while the second axis of symmetry is perpendicular to the principal axis. Border asymmetry is reported as the asymmetry value about this second axis. Values range 0-10.+\n",
    "    'tbp_lv_symm_2axis_angle',           # Lesion border asymmetry angle.+\n",
    "    'tbp_lv_x',                          # X-coordinate of the lesion on 3D TBP.+\n",
    "    'tbp_lv_y',                          # Y-coordinate of the lesion on 3D TBP.+\n",
    "    'tbp_lv_z',                          # Z-coordinate of the lesion on 3D TBP.+\n",
    "]\n",
    "\n",
    "new_num_cols = [\n",
    "    'lesion_size_ratio',             # tbp_lv_minorAxisMM      / clin_size_long_diam_mm\n",
    "    'lesion_shape_index',            # tbp_lv_areaMM2          / tbp_lv_perimeterMM **2\n",
    "    'hue_contrast',                  # tbp_lv_H                - tbp_lv_Hext              abs\n",
    "    'luminance_contrast',            # tbp_lv_L                - tbp_lv_Lext              abs\n",
    "    'lesion_color_difference',       # tbp_lv_deltaA **2       + tbp_lv_deltaB **2 + tbp_lv_deltaL **2  sqrt  \n",
    "    'border_complexity',             # tbp_lv_norm_border      + tbp_lv_symm_2axis\n",
    "    'color_uniformity',              # tbp_lv_color_std_mean   / tbp_lv_radial_color_std_max\n",
    "\n",
    "    'position_distance_3d',          # tbp_lv_x **2 + tbp_lv_y **2 + tbp_lv_z **2  sqrt\n",
    "    'perimeter_to_area_ratio',       # tbp_lv_perimeterMM      / tbp_lv_areaMM2\n",
    "    'area_to_perimeter_ratio',       # tbp_lv_areaMM2          / tbp_lv_perimeterMM\n",
    "    'lesion_visibility_score',       # tbp_lv_deltaLBnorm      + tbp_lv_norm_color\n",
    "    'symmetry_border_consistency',   # tbp_lv_symm_2axis       * tbp_lv_norm_border\n",
    "    'consistency_symmetry_border',   # tbp_lv_symm_2axis       * tbp_lv_norm_border / (tbp_lv_symm_2axis + tbp_lv_norm_border)\n",
    "\n",
    "    'color_consistency',             # tbp_lv_stdL             / tbp_lv_Lext\n",
    "    'consistency_color',             # tbp_lv_stdL*tbp_lv_Lext / tbp_lv_stdL + tbp_lv_Lext\n",
    "    'size_age_interaction',          # clin_size_long_diam_mm  * age_approx\n",
    "    'hue_color_std_interaction',     # tbp_lv_H                * tbp_lv_color_std_mean\n",
    "    'lesion_severity_index',         # tbp_lv_norm_border      + tbp_lv_norm_color + tbp_lv_eccentricity / 3\n",
    "    'shape_complexity_index',        # border_complexity       + lesion_shape_index\n",
    "    'color_contrast_index',          # tbp_lv_deltaA + tbp_lv_deltaB + tbp_lv_deltaL + tbp_lv_deltaLBnorm\n",
    "\n",
    "    'log_lesion_area',               # tbp_lv_areaMM2          + 1  np.log\n",
    "    'normalized_lesion_size',        # clin_size_long_diam_mm  / age_approx\n",
    "    'mean_hue_difference',           # tbp_lv_H                + tbp_lv_Hext    / 2\n",
    "    'std_dev_contrast',              # tbp_lv_deltaA **2 + tbp_lv_deltaB **2 + tbp_lv_deltaL **2   / 3  np.sqrt\n",
    "    'color_shape_composite_index',   # tbp_lv_color_std_mean   + bp_lv_area_perim_ratio + tbp_lv_symm_2axis   / 3\n",
    "    'lesion_orientation_3d',         # tbp_lv_y                , tbp_lv_x  np.arctan2\n",
    "    'overall_color_difference',      # tbp_lv_deltaA           + tbp_lv_deltaB + tbp_lv_deltaL   / 3\n",
    "\n",
    "    'symmetry_perimeter_interaction',# tbp_lv_symm_2axis       * tbp_lv_perimeterMM\n",
    "    'comprehensive_lesion_index',    # tbp_lv_area_perim_ratio + tbp_lv_eccentricity + bp_lv_norm_color + tbp_lv_symm_2axis   / 4\n",
    "    'color_variance_ratio',          # tbp_lv_color_std_mean   / tbp_lv_stdLExt\n",
    "    'border_color_interaction',      # tbp_lv_norm_border      * tbp_lv_norm_color\n",
    "    'border_color_interaction_2',\n",
    "    'size_color_contrast_ratio',     # clin_size_long_diam_mm  / tbp_lv_deltaLBnorm\n",
    "    'age_normalized_nevi_confidence',# tbp_lv_nevi_confidence  / age_approx\n",
    "    'age_normalized_nevi_confidence_2',\n",
    "    'color_asymmetry_index',         # tbp_lv_symm_2axis       * tbp_lv_radial_color_std_max\n",
    "\n",
    "    'volume_approximation_3d',       # tbp_lv_areaMM2          * sqrt(tbp_lv_x**2 + tbp_lv_y**2 + tbp_lv_z**2)\n",
    "    'color_range',                   # abs(tbp_lv_L - tbp_lv_Lext) + abs(tbp_lv_A - tbp_lv_Aext) + abs(tbp_lv_B - tbp_lv_Bext)\n",
    "    'shape_color_consistency',       # tbp_lv_eccentricity     * tbp_lv_color_std_mean\n",
    "    'border_length_ratio',           # tbp_lv_perimeterMM      / pi * sqrt(tbp_lv_areaMM2 / pi)\n",
    "    'age_size_symmetry_index',       # age_approx              * clin_size_long_diam_mm * tbp_lv_symm_2axis\n",
    "    'index_age_size_symmetry',       # age_approx              * tbp_lv_areaMM2 * tbp_lv_symm_2axis\n",
    "]\n",
    "\n",
    "cat_cols = ['sex', 'anatom_site_general', 'tbp_tile_type', 'tbp_lv_location', 'tbp_lv_location_simple', 'attribution']\n",
    "norm_cols = [f'{col}_patient_norm' for col in num_cols + new_num_cols]\n",
    "special_cols = ['count_per_patient'] + [f'{col}_count' for col in cat_cols] + [(f'{num_col}_{cat_col}') for num_col, cat_col in itertools.product(num_cols, cat_cols)]\n",
    "feature_cols = num_cols + new_num_cols + cat_cols + norm_cols + special_cols "
   ]
  },
  {
   "cell_type": "code",
   "execution_count": 3,
   "id": "50bbbe16",
   "metadata": {
    "execution": {
     "iopub.execute_input": "2025-02-06T14:13:40.049640Z",
     "iopub.status.busy": "2025-02-06T14:13:40.049365Z",
     "iopub.status.idle": "2025-02-06T14:13:40.070403Z",
     "shell.execute_reply": "2025-02-06T14:13:40.069529Z"
    },
    "papermill": {
     "duration": 0.027993,
     "end_time": "2025-02-06T14:13:40.072258",
     "exception": false,
     "start_time": "2025-02-06T14:13:40.044265",
     "status": "completed"
    },
    "tags": []
   },
   "outputs": [],
   "source": [
    "def read_data(path):\n",
    "    return (\n",
    "        pl.read_csv(path)\n",
    "        .with_columns(\n",
    "            pl.col('age_approx').cast(pl.String).replace('NA', np.nan).cast(pl.Float64),\n",
    "        )\n",
    "        .with_columns(\n",
    "            pl.col(pl.Float64).fill_nan(pl.col(pl.Float64).median()), # You may want to impute test data with train\n",
    "        )\n",
    "        .with_columns(\n",
    "            lesion_size_ratio              = pl.col('tbp_lv_minorAxisMM') / pl.col('clin_size_long_diam_mm'),\n",
    "            lesion_shape_index             = pl.col('tbp_lv_areaMM2') / (pl.col('tbp_lv_perimeterMM') ** 2),\n",
    "            hue_contrast                   = (pl.col('tbp_lv_H') - pl.col('tbp_lv_Hext')).abs(),\n",
    "            luminance_contrast             = (pl.col('tbp_lv_L') - pl.col('tbp_lv_Lext')).abs(),\n",
    "            lesion_color_difference        = (pl.col('tbp_lv_deltaA') ** 2 + pl.col('tbp_lv_deltaB') ** 2 + pl.col('tbp_lv_deltaL') ** 2).sqrt(),\n",
    "            border_complexity              = pl.col('tbp_lv_norm_border') + pl.col('tbp_lv_symm_2axis'),\n",
    "            color_uniformity               = pl.col('tbp_lv_color_std_mean') / (pl.col('tbp_lv_radial_color_std_max') + err),\n",
    "        )\n",
    "        .with_columns(\n",
    "            position_distance_3d           = (pl.col('tbp_lv_x') ** 2 + pl.col('tbp_lv_y') ** 2 + pl.col('tbp_lv_z') ** 2).sqrt(),\n",
    "            perimeter_to_area_ratio        = pl.col('tbp_lv_perimeterMM') / pl.col('tbp_lv_areaMM2'),\n",
    "            area_to_perimeter_ratio        = pl.col('tbp_lv_areaMM2') / pl.col('tbp_lv_perimeterMM'),\n",
    "            lesion_visibility_score        = pl.col('tbp_lv_deltaLBnorm') + pl.col('tbp_lv_norm_color'),\n",
    "            combined_anatomical_site       = pl.col('anatom_site_general') + '_' + pl.col('tbp_lv_location'),\n",
    "            symmetry_border_consistency    = pl.col('tbp_lv_symm_2axis') * pl.col('tbp_lv_norm_border'),\n",
    "            consistency_symmetry_border    = pl.col('tbp_lv_symm_2axis') * pl.col('tbp_lv_norm_border') / (pl.col('tbp_lv_symm_2axis') + pl.col('tbp_lv_norm_border')),\n",
    "        )\n",
    "        .with_columns(\n",
    "            color_consistency              = pl.col('tbp_lv_stdL') / pl.col('tbp_lv_Lext'),\n",
    "            consistency_color              = pl.col('tbp_lv_stdL') * pl.col('tbp_lv_Lext') / (pl.col('tbp_lv_stdL') + pl.col('tbp_lv_Lext')),\n",
    "            size_age_interaction           = pl.col('clin_size_long_diam_mm') * pl.col('age_approx'),\n",
    "            hue_color_std_interaction      = pl.col('tbp_lv_H') * pl.col('tbp_lv_color_std_mean'),\n",
    "            lesion_severity_index          = (pl.col('tbp_lv_norm_border') + pl.col('tbp_lv_norm_color') + pl.col('tbp_lv_eccentricity')) / 3,\n",
    "            shape_complexity_index         = pl.col('border_complexity') + pl.col('lesion_shape_index'),\n",
    "            color_contrast_index           = pl.col('tbp_lv_deltaA') + pl.col('tbp_lv_deltaB') + pl.col('tbp_lv_deltaL') + pl.col('tbp_lv_deltaLBnorm'),\n",
    "        )\n",
    "        .with_columns(\n",
    "            log_lesion_area                = (pl.col('tbp_lv_areaMM2') + 1).log(),\n",
    "            normalized_lesion_size         = pl.col('clin_size_long_diam_mm') / pl.col('age_approx'),\n",
    "            mean_hue_difference            = (pl.col('tbp_lv_H') + pl.col('tbp_lv_Hext')) / 2,\n",
    "            std_dev_contrast               = ((pl.col('tbp_lv_deltaA') ** 2 + pl.col('tbp_lv_deltaB') ** 2 + pl.col('tbp_lv_deltaL') ** 2) / 3).sqrt(),\n",
    "            color_shape_composite_index    = (pl.col('tbp_lv_color_std_mean') + pl.col('tbp_lv_area_perim_ratio') + pl.col('tbp_lv_symm_2axis')) / 3,\n",
    "            lesion_orientation_3d          = pl.arctan2(pl.col('tbp_lv_y'), pl.col('tbp_lv_x')),\n",
    "            overall_color_difference       = (pl.col('tbp_lv_deltaA') + pl.col('tbp_lv_deltaB') + pl.col('tbp_lv_deltaL')) / 3,\n",
    "        )\n",
    "        .with_columns(\n",
    "            symmetry_perimeter_interaction = pl.col('tbp_lv_symm_2axis') * pl.col('tbp_lv_perimeterMM'),\n",
    "            comprehensive_lesion_index     = (pl.col('tbp_lv_area_perim_ratio') + pl.col('tbp_lv_eccentricity') + pl.col('tbp_lv_norm_color') + pl.col('tbp_lv_symm_2axis')) / 4,\n",
    "            color_variance_ratio           = pl.col('tbp_lv_color_std_mean') / pl.col('tbp_lv_stdLExt'),\n",
    "            border_color_interaction       = pl.col('tbp_lv_norm_border') * pl.col('tbp_lv_norm_color'),\n",
    "            border_color_interaction_2     = pl.col('tbp_lv_norm_border') * pl.col('tbp_lv_norm_color') / (pl.col('tbp_lv_norm_border') + pl.col('tbp_lv_norm_color')),\n",
    "            size_color_contrast_ratio      = pl.col('clin_size_long_diam_mm') / pl.col('tbp_lv_deltaLBnorm'),\n",
    "            age_normalized_nevi_confidence = pl.col('tbp_lv_nevi_confidence') / pl.col('age_approx'),\n",
    "            age_normalized_nevi_confidence_2 = (pl.col('clin_size_long_diam_mm')**2 + pl.col('age_approx')**2).sqrt(),\n",
    "            color_asymmetry_index          = pl.col('tbp_lv_radial_color_std_max') * pl.col('tbp_lv_symm_2axis'),\n",
    "        )\n",
    "        .with_columns(\n",
    "            volume_approximation_3d        = pl.col('tbp_lv_areaMM2') * (pl.col('tbp_lv_x')**2 + pl.col('tbp_lv_y')**2 + pl.col('tbp_lv_z')**2).sqrt(),\n",
    "            color_range                    = (pl.col('tbp_lv_L') - pl.col('tbp_lv_Lext')).abs() + (pl.col('tbp_lv_A') - pl.col('tbp_lv_Aext')).abs() + (pl.col('tbp_lv_B') - pl.col('tbp_lv_Bext')).abs(),\n",
    "            shape_color_consistency        = pl.col('tbp_lv_eccentricity') * pl.col('tbp_lv_color_std_mean'),\n",
    "            border_length_ratio            = pl.col('tbp_lv_perimeterMM') / (2 * np.pi * (pl.col('tbp_lv_areaMM2') / np.pi).sqrt()),\n",
    "            age_size_symmetry_index        = pl.col('age_approx') * pl.col('clin_size_long_diam_mm') * pl.col('tbp_lv_symm_2axis'),\n",
    "            index_age_size_symmetry        = pl.col('age_approx') * pl.col('tbp_lv_areaMM2') * pl.col('tbp_lv_symm_2axis'),\n",
    "        )\n",
    "        .with_columns(\n",
    "            ((pl.col(col) - pl.col(col).mean().over('patient_id')) / (pl.col(col).std().over('patient_id') + err)).alias(f'{col}_patient_norm') for col in (num_cols + new_num_cols)\n",
    "        )\n",
    "        .with_columns(\n",
    "            ((pl.col(num_col) - pl.col(num_col).mean().over('patient_id', cat_col)) / (pl.col(num_col).std().over('patient_id', cat_col) + err)).alias(f'{num_col}_{cat_col}') for num_col, cat_col in itertools.product(num_cols, cat_cols)\n",
    "        )\n",
    "        .with_columns(\n",
    "            pl.col(col).count().over('patient_id', col).alias(f'{col}_count') for col in cat_cols\n",
    "        )\n",
    "        .with_columns(\n",
    "            count_per_patient = pl.col('isic_id').count().over('patient_id'),\n",
    "        )\n",
    "        .with_columns(\n",
    "            pl.col(cat_cols).cast(pl.Categorical),\n",
    "        )\n",
    "        .to_pandas()\n",
    "        .set_index(id_col)\n",
    "    )"
   ]
  },
  {
   "cell_type": "code",
   "execution_count": 4,
   "id": "47ecb8b6",
   "metadata": {
    "execution": {
     "iopub.execute_input": "2025-02-06T14:13:40.082136Z",
     "iopub.status.busy": "2025-02-06T14:13:40.081414Z",
     "iopub.status.idle": "2025-02-06T14:13:40.580743Z",
     "shell.execute_reply": "2025-02-06T14:13:40.579451Z"
    },
    "papermill": {
     "duration": 0.507141,
     "end_time": "2025-02-06T14:13:40.583734",
     "exception": false,
     "start_time": "2025-02-06T14:13:40.076593",
     "status": "completed"
    },
    "tags": []
   },
   "outputs": [],
   "source": [
    "cnn_test = pd.read_csv('/kaggle/input/inference-test/submission.csv')\n",
    "cnn_train = pd.read_csv('/kaggle/input/improved-cnn-predictions/train_predictions (1).csv')\n",
    "\n",
    "cnn_test['cnn_target'] = cnn_test['target']\n",
    "cnn_train['cnn_target'] = cnn_train['target']\n"
   ]
  },
  {
   "cell_type": "code",
   "execution_count": 5,
   "id": "3323d5b0",
   "metadata": {
    "execution": {
     "iopub.execute_input": "2025-02-06T14:13:40.593966Z",
     "iopub.status.busy": "2025-02-06T14:13:40.593270Z",
     "iopub.status.idle": "2025-02-06T14:13:40.600301Z",
     "shell.execute_reply": "2025-02-06T14:13:40.598926Z"
    },
    "papermill": {
     "duration": 0.014634,
     "end_time": "2025-02-06T14:13:40.602876",
     "exception": false,
     "start_time": "2025-02-06T14:13:40.588242",
     "status": "completed"
    },
    "tags": []
   },
   "outputs": [],
   "source": [
    "def preprocess(df_train, df_test):\n",
    "    global cat_cols\n",
    "    \n",
    "    encoder = OneHotEncoder(sparse_output=False, dtype=np.int32, handle_unknown='ignore')\n",
    "    encoder.fit(df_train[cat_cols])\n",
    "    \n",
    "    new_cat_cols = [f'onehot_{i}' for i in range(len(encoder.get_feature_names_out()))]\n",
    "\n",
    "    df_train[new_cat_cols] = encoder.transform(df_train[cat_cols])\n",
    "    df_train[new_cat_cols] = df_train[new_cat_cols].astype('category')\n",
    "\n",
    "    df_test[new_cat_cols] = encoder.transform(df_test[cat_cols])\n",
    "    df_test[new_cat_cols] = df_test[new_cat_cols].astype('category')\n",
    "\n",
    "    for col in cat_cols:\n",
    "        feature_cols.remove(col)\n",
    "\n",
    "    feature_cols.extend(new_cat_cols)\n",
    "    cat_cols = new_cat_cols\n",
    "    \n",
    "    return df_train, df_test"
   ]
  },
  {
   "cell_type": "code",
   "execution_count": 6,
   "id": "22f9c9d8",
   "metadata": {
    "execution": {
     "iopub.execute_input": "2025-02-06T14:13:40.616049Z",
     "iopub.status.busy": "2025-02-06T14:13:40.615656Z",
     "iopub.status.idle": "2025-02-06T14:13:40.622486Z",
     "shell.execute_reply": "2025-02-06T14:13:40.621584Z"
    },
    "papermill": {
     "duration": 0.015775,
     "end_time": "2025-02-06T14:13:40.624807",
     "exception": false,
     "start_time": "2025-02-06T14:13:40.609032",
     "status": "completed"
    },
    "tags": []
   },
   "outputs": [],
   "source": [
    "def custom_metric(estimator, X, y_true):\n",
    "    y_hat = estimator.predict_proba(X)[:, 1]\n",
    "    min_tpr = 0.80\n",
    "    max_fpr = abs(1 - min_tpr)\n",
    "    \n",
    "    v_gt = abs(y_true - 1)\n",
    "    v_pred = np.array([1.0 - x for x in y_hat])\n",
    "    \n",
    "    partial_auc_scaled = roc_auc_score(v_gt, v_pred, max_fpr=max_fpr)\n",
    "    partial_auc = 0.5 * max_fpr**2 + (max_fpr - 0.5 * max_fpr**2) / (1.0 - 0.5) * (partial_auc_scaled - 0.5)\n",
    "    \n",
    "    return partial_auc"
   ]
  },
  {
   "cell_type": "markdown",
   "id": "85a1d3fe",
   "metadata": {
    "papermill": {
     "duration": 0.006307,
     "end_time": "2025-02-06T14:13:40.637633",
     "exception": false,
     "start_time": "2025-02-06T14:13:40.631326",
     "status": "completed"
    },
    "tags": []
   },
   "source": [
    "### Data Read & Feature Engineering"
   ]
  },
  {
   "cell_type": "code",
   "execution_count": 7,
   "id": "f3dde28b",
   "metadata": {
    "execution": {
     "iopub.execute_input": "2025-02-06T14:13:40.647915Z",
     "iopub.status.busy": "2025-02-06T14:13:40.647613Z",
     "iopub.status.idle": "2025-02-06T14:13:57.095807Z",
     "shell.execute_reply": "2025-02-06T14:13:57.094997Z"
    },
    "papermill": {
     "duration": 16.455643,
     "end_time": "2025-02-06T14:13:57.098267",
     "exception": false,
     "start_time": "2025-02-06T14:13:40.642624",
     "status": "completed"
    },
    "tags": []
   },
   "outputs": [],
   "source": [
    "df_train = read_data(train_path)\n",
    "df_test = read_data(test_path)\n",
    "df_subm = pd.read_csv(subm_path, index_col=id_col)\n",
    "\n",
    "df_train, df_test = preprocess(df_train, df_test)"
   ]
  },
  {
   "cell_type": "code",
   "execution_count": 8,
   "id": "e4f193d8",
   "metadata": {
    "execution": {
     "iopub.execute_input": "2025-02-06T14:13:57.107883Z",
     "iopub.status.busy": "2025-02-06T14:13:57.107572Z",
     "iopub.status.idle": "2025-02-06T14:13:59.267344Z",
     "shell.execute_reply": "2025-02-06T14:13:59.266538Z"
    },
    "papermill": {
     "duration": 2.166901,
     "end_time": "2025-02-06T14:13:59.269478",
     "exception": false,
     "start_time": "2025-02-06T14:13:57.102577",
     "status": "completed"
    },
    "tags": []
   },
   "outputs": [],
   "source": [
    "# Merge CNN predictions with training data\n",
    "df_train = df_train.merge(\n",
    "    cnn_train[['isic_id', 'cnn_target']], \n",
    "    on='isic_id', \n",
    "    how='left'\n",
    ")\n",
    "\n",
    "# Merge CNN predictions with test data\n",
    "df_test = df_test.merge(\n",
    "    cnn_test[['isic_id', 'cnn_target']], \n",
    "    on='isic_id', \n",
    "    how='left'\n",
    ")"
   ]
  },
  {
   "cell_type": "markdown",
   "id": "5d81afa0",
   "metadata": {
    "papermill": {
     "duration": 0.003663,
     "end_time": "2025-02-06T14:13:59.277215",
     "exception": false,
     "start_time": "2025-02-06T14:13:59.273552",
     "status": "completed"
    },
    "tags": []
   },
   "source": [
    "### Optuna HyperParam Tuned Models"
   ]
  },
  {
   "cell_type": "code",
   "execution_count": 9,
   "id": "9a391925",
   "metadata": {
    "execution": {
     "iopub.execute_input": "2025-02-06T14:13:59.286180Z",
     "iopub.status.busy": "2025-02-06T14:13:59.285853Z",
     "iopub.status.idle": "2025-02-06T14:13:59.627124Z",
     "shell.execute_reply": "2025-02-06T14:13:59.626294Z"
    },
    "papermill": {
     "duration": 0.348311,
     "end_time": "2025-02-06T14:13:59.629357",
     "exception": false,
     "start_time": "2025-02-06T14:13:59.281046",
     "status": "completed"
    },
    "tags": []
   },
   "outputs": [],
   "source": [
    "X = df_train[feature_cols + ['cnn_target']]  # Add the 'target' feature to X\n",
    "y = df_train[target_col]\n",
    "groups = df_train[group_col]\n",
    "cv = StratifiedGroupKFold(5, shuffle=True, random_state=seed)\n"
   ]
  },
  {
   "cell_type": "code",
   "execution_count": 10,
   "id": "a4b55a34",
   "metadata": {
    "execution": {
     "iopub.execute_input": "2025-02-06T14:13:59.638674Z",
     "iopub.status.busy": "2025-02-06T14:13:59.638387Z",
     "iopub.status.idle": "2025-02-06T14:13:59.646610Z",
     "shell.execute_reply": "2025-02-06T14:13:59.645843Z"
    },
    "papermill": {
     "duration": 0.014934,
     "end_time": "2025-02-06T14:13:59.648398",
     "exception": false,
     "start_time": "2025-02-06T14:13:59.633464",
     "status": "completed"
    },
    "tags": []
   },
   "outputs": [],
   "source": [
    "lgb_params = {\n",
    "    'objective':        'binary',\n",
    "    'verbosity':        -1,\n",
    "    'n_iter':           200,\n",
    "    'n_jobs':           2,\n",
    "    'boosting_type':    'gbdt',\n",
    "    'lambda_l1':        0.03335206514282942, \n",
    "    'lambda_l2':        0.005157393323802471, \n",
    "    'learning_rate':    0.030665870185795318, \n",
    "    'max_depth':        7, \n",
    "    'num_leaves':       239, \n",
    "    'colsample_bytree': 0.7573175155547233, \n",
    "    'colsample_bynode': 0.5005423904042993, \n",
    "    'bagging_fraction': 0.7937347683420382, \n",
    "    'bagging_freq':     4, \n",
    "    'min_data_in_leaf': 29, \n",
    "    'scale_pos_weight': 1.648349898918236,\n",
    "}\n",
    "\n",
    "\n",
    "estimator = VotingClassifier([\n",
    "    ('lgb1', Pipeline([\n",
    "        ('sampler', RandomUnderSampler(sampling_strategy=sampling_ratio, random_state=12)),\n",
    "        ('classifier', lgb.LGBMClassifier(**lgb_params, random_state=12)),\n",
    "    ])),\n",
    "    ('lgb2', Pipeline([\n",
    "        ('sampler', RandomUnderSampler(sampling_strategy=sampling_ratio, random_state=22)),\n",
    "        ('classifier', lgb.LGBMClassifier(**lgb_params, random_state=22)),\n",
    "    ])),\n",
    "    ('lgb3', Pipeline([\n",
    "        ('sampler', RandomUnderSampler(sampling_strategy=sampling_ratio, random_state=32)),\n",
    "        ('classifier', lgb.LGBMClassifier(**lgb_params, random_state=32)),\n",
    "    ])),\n",
    "    ('lgb4', Pipeline([\n",
    "        ('sampler', RandomUnderSampler(sampling_strategy=sampling_ratio, random_state=42)),\n",
    "        ('classifier', lgb.LGBMClassifier(**lgb_params, random_state=42)),\n",
    "    ])),\n",
    "    ('lgb5', Pipeline([\n",
    "        ('sampler', RandomUnderSampler(sampling_strategy=sampling_ratio, random_state=52)),\n",
    "        ('classifier', lgb.LGBMClassifier(**lgb_params, random_state=52)),\n",
    "    ])),\n",
    "], voting='soft')"
   ]
  },
  {
   "cell_type": "markdown",
   "id": "6a6f2fd6",
   "metadata": {
    "papermill": {
     "duration": 0.003611,
     "end_time": "2025-02-06T14:13:59.655923",
     "exception": false,
     "start_time": "2025-02-06T14:13:59.652312",
     "status": "completed"
    },
    "tags": []
   },
   "source": [
    "### Cross Validation"
   ]
  },
  {
   "cell_type": "code",
   "execution_count": 11,
   "id": "6c9c6d33",
   "metadata": {
    "collapsed": true,
    "execution": {
     "iopub.execute_input": "2025-02-06T14:13:59.664521Z",
     "iopub.status.busy": "2025-02-06T14:13:59.664227Z",
     "iopub.status.idle": "2025-02-06T14:13:59.667988Z",
     "shell.execute_reply": "2025-02-06T14:13:59.667287Z"
    },
    "jupyter": {
     "outputs_hidden": true
    },
    "papermill": {
     "duration": 0.010176,
     "end_time": "2025-02-06T14:13:59.669842",
     "exception": false,
     "start_time": "2025-02-06T14:13:59.659666",
     "status": "completed"
    },
    "tags": []
   },
   "outputs": [],
   "source": [
    "# val_score = cross_val_score(\n",
    "#     estimator=estimator, \n",
    "#     X=X, y=y, \n",
    "#     cv=cv, \n",
    "#     groups=groups,\n",
    "#     scoring=custom_metric,\n",
    "# )\n",
    "\n",
    "# np.mean(val_score), val_score\n",
    "\n",
    "# (0.16945925977449908,\n",
    "#  array([0.17096681, 0.17218286, 0.17074155, 0.16479613, 0.16860895]))"
   ]
  },
  {
   "cell_type": "markdown",
   "id": "85afe2b1",
   "metadata": {
    "papermill": {
     "duration": 0.003597,
     "end_time": "2025-02-06T14:13:59.677272",
     "exception": false,
     "start_time": "2025-02-06T14:13:59.673675",
     "status": "completed"
    },
    "tags": []
   },
   "source": [
    "### Training"
   ]
  },
  {
   "cell_type": "code",
   "execution_count": 12,
   "id": "04206c29",
   "metadata": {
    "execution": {
     "iopub.execute_input": "2025-02-06T14:13:59.686081Z",
     "iopub.status.busy": "2025-02-06T14:13:59.685779Z",
     "iopub.status.idle": "2025-02-06T14:15:20.735904Z",
     "shell.execute_reply": "2025-02-06T14:15:20.734919Z"
    },
    "papermill": {
     "duration": 81.062127,
     "end_time": "2025-02-06T14:15:20.743187",
     "exception": false,
     "start_time": "2025-02-06T14:13:59.681060",
     "status": "completed"
    },
    "tags": []
   },
   "outputs": [
    {
     "data": {
      "text/html": [
       "<style>#sk-container-id-1 {color: black;background-color: white;}#sk-container-id-1 pre{padding: 0;}#sk-container-id-1 div.sk-toggleable {background-color: white;}#sk-container-id-1 label.sk-toggleable__label {cursor: pointer;display: block;width: 100%;margin-bottom: 0;padding: 0.3em;box-sizing: border-box;text-align: center;}#sk-container-id-1 label.sk-toggleable__label-arrow:before {content: \"▸\";float: left;margin-right: 0.25em;color: #696969;}#sk-container-id-1 label.sk-toggleable__label-arrow:hover:before {color: black;}#sk-container-id-1 div.sk-estimator:hover label.sk-toggleable__label-arrow:before {color: black;}#sk-container-id-1 div.sk-toggleable__content {max-height: 0;max-width: 0;overflow: hidden;text-align: left;background-color: #f0f8ff;}#sk-container-id-1 div.sk-toggleable__content pre {margin: 0.2em;color: black;border-radius: 0.25em;background-color: #f0f8ff;}#sk-container-id-1 input.sk-toggleable__control:checked~div.sk-toggleable__content {max-height: 200px;max-width: 100%;overflow: auto;}#sk-container-id-1 input.sk-toggleable__control:checked~label.sk-toggleable__label-arrow:before {content: \"▾\";}#sk-container-id-1 div.sk-estimator input.sk-toggleable__control:checked~label.sk-toggleable__label {background-color: #d4ebff;}#sk-container-id-1 div.sk-label input.sk-toggleable__control:checked~label.sk-toggleable__label {background-color: #d4ebff;}#sk-container-id-1 input.sk-hidden--visually {border: 0;clip: rect(1px 1px 1px 1px);clip: rect(1px, 1px, 1px, 1px);height: 1px;margin: -1px;overflow: hidden;padding: 0;position: absolute;width: 1px;}#sk-container-id-1 div.sk-estimator {font-family: monospace;background-color: #f0f8ff;border: 1px dotted black;border-radius: 0.25em;box-sizing: border-box;margin-bottom: 0.5em;}#sk-container-id-1 div.sk-estimator:hover {background-color: #d4ebff;}#sk-container-id-1 div.sk-parallel-item::after {content: \"\";width: 100%;border-bottom: 1px solid gray;flex-grow: 1;}#sk-container-id-1 div.sk-label:hover label.sk-toggleable__label {background-color: #d4ebff;}#sk-container-id-1 div.sk-serial::before {content: \"\";position: absolute;border-left: 1px solid gray;box-sizing: border-box;top: 0;bottom: 0;left: 50%;z-index: 0;}#sk-container-id-1 div.sk-serial {display: flex;flex-direction: column;align-items: center;background-color: white;padding-right: 0.2em;padding-left: 0.2em;position: relative;}#sk-container-id-1 div.sk-item {position: relative;z-index: 1;}#sk-container-id-1 div.sk-parallel {display: flex;align-items: stretch;justify-content: center;background-color: white;position: relative;}#sk-container-id-1 div.sk-item::before, #sk-container-id-1 div.sk-parallel-item::before {content: \"\";position: absolute;border-left: 1px solid gray;box-sizing: border-box;top: 0;bottom: 0;left: 50%;z-index: -1;}#sk-container-id-1 div.sk-parallel-item {display: flex;flex-direction: column;z-index: 1;position: relative;background-color: white;}#sk-container-id-1 div.sk-parallel-item:first-child::after {align-self: flex-end;width: 50%;}#sk-container-id-1 div.sk-parallel-item:last-child::after {align-self: flex-start;width: 50%;}#sk-container-id-1 div.sk-parallel-item:only-child::after {width: 0;}#sk-container-id-1 div.sk-dashed-wrapped {border: 1px dashed gray;margin: 0 0.4em 0.5em 0.4em;box-sizing: border-box;padding-bottom: 0.4em;background-color: white;}#sk-container-id-1 div.sk-label label {font-family: monospace;font-weight: bold;display: inline-block;line-height: 1.2em;}#sk-container-id-1 div.sk-label-container {text-align: center;}#sk-container-id-1 div.sk-container {/* jupyter's `normalize.less` sets `[hidden] { display: none; }` but bootstrap.min.css set `[hidden] { display: none !important; }` so we also need the `!important` here to be able to override the default hidden behavior on the sphinx rendered scikit-learn.org. See: https://github.com/scikit-learn/scikit-learn/issues/21755 */display: inline-block !important;position: relative;}#sk-container-id-1 div.sk-text-repr-fallback {display: none;}</style><div id=\"sk-container-id-1\" class=\"sk-top-container\"><div class=\"sk-text-repr-fallback\"><pre>VotingClassifier(estimators=[(&#x27;lgb1&#x27;,\n",
       "                              Pipeline(steps=[(&#x27;sampler&#x27;,\n",
       "                                               RandomUnderSampler(random_state=12,\n",
       "                                                                  sampling_strategy=0.01)),\n",
       "                                              (&#x27;classifier&#x27;,\n",
       "                                               LGBMClassifier(bagging_fraction=0.7937347683420382,\n",
       "                                                              bagging_freq=4,\n",
       "                                                              colsample_bynode=0.5005423904042993,\n",
       "                                                              colsample_bytree=0.7573175155547233,\n",
       "                                                              lambda_l1=0.03335206514282942,\n",
       "                                                              lambda_l2=0.005157393323802471,\n",
       "                                                              learning_rate...\n",
       "                                                              bagging_freq=4,\n",
       "                                                              colsample_bynode=0.5005423904042993,\n",
       "                                                              colsample_bytree=0.7573175155547233,\n",
       "                                                              lambda_l1=0.03335206514282942,\n",
       "                                                              lambda_l2=0.005157393323802471,\n",
       "                                                              learning_rate=0.030665870185795318,\n",
       "                                                              max_depth=7,\n",
       "                                                              min_data_in_leaf=29,\n",
       "                                                              n_iter=200,\n",
       "                                                              n_jobs=2,\n",
       "                                                              num_leaves=239,\n",
       "                                                              objective=&#x27;binary&#x27;,\n",
       "                                                              random_state=52,\n",
       "                                                              scale_pos_weight=1.648349898918236,\n",
       "                                                              verbosity=-1))]))],\n",
       "                 voting=&#x27;soft&#x27;)</pre><b>In a Jupyter environment, please rerun this cell to show the HTML representation or trust the notebook. <br />On GitHub, the HTML representation is unable to render, please try loading this page with nbviewer.org.</b></div><div class=\"sk-container\" hidden><div class=\"sk-item sk-dashed-wrapped\"><div class=\"sk-label-container\"><div class=\"sk-label sk-toggleable\"><input class=\"sk-toggleable__control sk-hidden--visually\" id=\"sk-estimator-id-1\" type=\"checkbox\" ><label for=\"sk-estimator-id-1\" class=\"sk-toggleable__label sk-toggleable__label-arrow\">VotingClassifier</label><div class=\"sk-toggleable__content\"><pre>VotingClassifier(estimators=[(&#x27;lgb1&#x27;,\n",
       "                              Pipeline(steps=[(&#x27;sampler&#x27;,\n",
       "                                               RandomUnderSampler(random_state=12,\n",
       "                                                                  sampling_strategy=0.01)),\n",
       "                                              (&#x27;classifier&#x27;,\n",
       "                                               LGBMClassifier(bagging_fraction=0.7937347683420382,\n",
       "                                                              bagging_freq=4,\n",
       "                                                              colsample_bynode=0.5005423904042993,\n",
       "                                                              colsample_bytree=0.7573175155547233,\n",
       "                                                              lambda_l1=0.03335206514282942,\n",
       "                                                              lambda_l2=0.005157393323802471,\n",
       "                                                              learning_rate...\n",
       "                                                              bagging_freq=4,\n",
       "                                                              colsample_bynode=0.5005423904042993,\n",
       "                                                              colsample_bytree=0.7573175155547233,\n",
       "                                                              lambda_l1=0.03335206514282942,\n",
       "                                                              lambda_l2=0.005157393323802471,\n",
       "                                                              learning_rate=0.030665870185795318,\n",
       "                                                              max_depth=7,\n",
       "                                                              min_data_in_leaf=29,\n",
       "                                                              n_iter=200,\n",
       "                                                              n_jobs=2,\n",
       "                                                              num_leaves=239,\n",
       "                                                              objective=&#x27;binary&#x27;,\n",
       "                                                              random_state=52,\n",
       "                                                              scale_pos_weight=1.648349898918236,\n",
       "                                                              verbosity=-1))]))],\n",
       "                 voting=&#x27;soft&#x27;)</pre></div></div></div><div class=\"sk-parallel\"><div class=\"sk-parallel-item\"><div class=\"sk-item\"><div class=\"sk-label-container\"><div class=\"sk-label sk-toggleable\"><label>lgb1</label></div></div><div class=\"sk-serial\"><div class=\"sk-item\"><div class=\"sk-serial\"><div class=\"sk-item\"><div class=\"sk-estimator sk-toggleable\"><input class=\"sk-toggleable__control sk-hidden--visually\" id=\"sk-estimator-id-2\" type=\"checkbox\" ><label for=\"sk-estimator-id-2\" class=\"sk-toggleable__label sk-toggleable__label-arrow\">RandomUnderSampler</label><div class=\"sk-toggleable__content\"><pre>RandomUnderSampler(random_state=12, sampling_strategy=0.01)</pre></div></div></div><div class=\"sk-item\"><div class=\"sk-estimator sk-toggleable\"><input class=\"sk-toggleable__control sk-hidden--visually\" id=\"sk-estimator-id-3\" type=\"checkbox\" ><label for=\"sk-estimator-id-3\" class=\"sk-toggleable__label sk-toggleable__label-arrow\">LGBMClassifier</label><div class=\"sk-toggleable__content\"><pre>LGBMClassifier(bagging_fraction=0.7937347683420382, bagging_freq=4,\n",
       "               colsample_bynode=0.5005423904042993,\n",
       "               colsample_bytree=0.7573175155547233,\n",
       "               lambda_l1=0.03335206514282942, lambda_l2=0.005157393323802471,\n",
       "               learning_rate=0.030665870185795318, max_depth=7,\n",
       "               min_data_in_leaf=29, n_iter=200, n_jobs=2, num_leaves=239,\n",
       "               objective=&#x27;binary&#x27;, random_state=12,\n",
       "               scale_pos_weight=1.648349898918236, verbosity=-1)</pre></div></div></div></div></div></div></div></div><div class=\"sk-parallel-item\"><div class=\"sk-item\"><div class=\"sk-label-container\"><div class=\"sk-label sk-toggleable\"><label>lgb2</label></div></div><div class=\"sk-serial\"><div class=\"sk-item\"><div class=\"sk-serial\"><div class=\"sk-item\"><div class=\"sk-estimator sk-toggleable\"><input class=\"sk-toggleable__control sk-hidden--visually\" id=\"sk-estimator-id-4\" type=\"checkbox\" ><label for=\"sk-estimator-id-4\" class=\"sk-toggleable__label sk-toggleable__label-arrow\">RandomUnderSampler</label><div class=\"sk-toggleable__content\"><pre>RandomUnderSampler(random_state=22, sampling_strategy=0.01)</pre></div></div></div><div class=\"sk-item\"><div class=\"sk-estimator sk-toggleable\"><input class=\"sk-toggleable__control sk-hidden--visually\" id=\"sk-estimator-id-5\" type=\"checkbox\" ><label for=\"sk-estimator-id-5\" class=\"sk-toggleable__label sk-toggleable__label-arrow\">LGBMClassifier</label><div class=\"sk-toggleable__content\"><pre>LGBMClassifier(bagging_fraction=0.7937347683420382, bagging_freq=4,\n",
       "               colsample_bynode=0.5005423904042993,\n",
       "               colsample_bytree=0.7573175155547233,\n",
       "               lambda_l1=0.03335206514282942, lambda_l2=0.005157393323802471,\n",
       "               learning_rate=0.030665870185795318, max_depth=7,\n",
       "               min_data_in_leaf=29, n_iter=200, n_jobs=2, num_leaves=239,\n",
       "               objective=&#x27;binary&#x27;, random_state=22,\n",
       "               scale_pos_weight=1.648349898918236, verbosity=-1)</pre></div></div></div></div></div></div></div></div><div class=\"sk-parallel-item\"><div class=\"sk-item\"><div class=\"sk-label-container\"><div class=\"sk-label sk-toggleable\"><label>lgb3</label></div></div><div class=\"sk-serial\"><div class=\"sk-item\"><div class=\"sk-serial\"><div class=\"sk-item\"><div class=\"sk-estimator sk-toggleable\"><input class=\"sk-toggleable__control sk-hidden--visually\" id=\"sk-estimator-id-6\" type=\"checkbox\" ><label for=\"sk-estimator-id-6\" class=\"sk-toggleable__label sk-toggleable__label-arrow\">RandomUnderSampler</label><div class=\"sk-toggleable__content\"><pre>RandomUnderSampler(random_state=32, sampling_strategy=0.01)</pre></div></div></div><div class=\"sk-item\"><div class=\"sk-estimator sk-toggleable\"><input class=\"sk-toggleable__control sk-hidden--visually\" id=\"sk-estimator-id-7\" type=\"checkbox\" ><label for=\"sk-estimator-id-7\" class=\"sk-toggleable__label sk-toggleable__label-arrow\">LGBMClassifier</label><div class=\"sk-toggleable__content\"><pre>LGBMClassifier(bagging_fraction=0.7937347683420382, bagging_freq=4,\n",
       "               colsample_bynode=0.5005423904042993,\n",
       "               colsample_bytree=0.7573175155547233,\n",
       "               lambda_l1=0.03335206514282942, lambda_l2=0.005157393323802471,\n",
       "               learning_rate=0.030665870185795318, max_depth=7,\n",
       "               min_data_in_leaf=29, n_iter=200, n_jobs=2, num_leaves=239,\n",
       "               objective=&#x27;binary&#x27;, random_state=32,\n",
       "               scale_pos_weight=1.648349898918236, verbosity=-1)</pre></div></div></div></div></div></div></div></div><div class=\"sk-parallel-item\"><div class=\"sk-item\"><div class=\"sk-label-container\"><div class=\"sk-label sk-toggleable\"><label>lgb4</label></div></div><div class=\"sk-serial\"><div class=\"sk-item\"><div class=\"sk-serial\"><div class=\"sk-item\"><div class=\"sk-estimator sk-toggleable\"><input class=\"sk-toggleable__control sk-hidden--visually\" id=\"sk-estimator-id-8\" type=\"checkbox\" ><label for=\"sk-estimator-id-8\" class=\"sk-toggleable__label sk-toggleable__label-arrow\">RandomUnderSampler</label><div class=\"sk-toggleable__content\"><pre>RandomUnderSampler(random_state=42, sampling_strategy=0.01)</pre></div></div></div><div class=\"sk-item\"><div class=\"sk-estimator sk-toggleable\"><input class=\"sk-toggleable__control sk-hidden--visually\" id=\"sk-estimator-id-9\" type=\"checkbox\" ><label for=\"sk-estimator-id-9\" class=\"sk-toggleable__label sk-toggleable__label-arrow\">LGBMClassifier</label><div class=\"sk-toggleable__content\"><pre>LGBMClassifier(bagging_fraction=0.7937347683420382, bagging_freq=4,\n",
       "               colsample_bynode=0.5005423904042993,\n",
       "               colsample_bytree=0.7573175155547233,\n",
       "               lambda_l1=0.03335206514282942, lambda_l2=0.005157393323802471,\n",
       "               learning_rate=0.030665870185795318, max_depth=7,\n",
       "               min_data_in_leaf=29, n_iter=200, n_jobs=2, num_leaves=239,\n",
       "               objective=&#x27;binary&#x27;, random_state=42,\n",
       "               scale_pos_weight=1.648349898918236, verbosity=-1)</pre></div></div></div></div></div></div></div></div><div class=\"sk-parallel-item\"><div class=\"sk-item\"><div class=\"sk-label-container\"><div class=\"sk-label sk-toggleable\"><label>lgb5</label></div></div><div class=\"sk-serial\"><div class=\"sk-item\"><div class=\"sk-serial\"><div class=\"sk-item\"><div class=\"sk-estimator sk-toggleable\"><input class=\"sk-toggleable__control sk-hidden--visually\" id=\"sk-estimator-id-10\" type=\"checkbox\" ><label for=\"sk-estimator-id-10\" class=\"sk-toggleable__label sk-toggleable__label-arrow\">RandomUnderSampler</label><div class=\"sk-toggleable__content\"><pre>RandomUnderSampler(random_state=52, sampling_strategy=0.01)</pre></div></div></div><div class=\"sk-item\"><div class=\"sk-estimator sk-toggleable\"><input class=\"sk-toggleable__control sk-hidden--visually\" id=\"sk-estimator-id-11\" type=\"checkbox\" ><label for=\"sk-estimator-id-11\" class=\"sk-toggleable__label sk-toggleable__label-arrow\">LGBMClassifier</label><div class=\"sk-toggleable__content\"><pre>LGBMClassifier(bagging_fraction=0.7937347683420382, bagging_freq=4,\n",
       "               colsample_bynode=0.5005423904042993,\n",
       "               colsample_bytree=0.7573175155547233,\n",
       "               lambda_l1=0.03335206514282942, lambda_l2=0.005157393323802471,\n",
       "               learning_rate=0.030665870185795318, max_depth=7,\n",
       "               min_data_in_leaf=29, n_iter=200, n_jobs=2, num_leaves=239,\n",
       "               objective=&#x27;binary&#x27;, random_state=52,\n",
       "               scale_pos_weight=1.648349898918236, verbosity=-1)</pre></div></div></div></div></div></div></div></div></div></div></div></div>"
      ],
      "text/plain": [
       "VotingClassifier(estimators=[('lgb1',\n",
       "                              Pipeline(steps=[('sampler',\n",
       "                                               RandomUnderSampler(random_state=12,\n",
       "                                                                  sampling_strategy=0.01)),\n",
       "                                              ('classifier',\n",
       "                                               LGBMClassifier(bagging_fraction=0.7937347683420382,\n",
       "                                                              bagging_freq=4,\n",
       "                                                              colsample_bynode=0.5005423904042993,\n",
       "                                                              colsample_bytree=0.7573175155547233,\n",
       "                                                              lambda_l1=0.03335206514282942,\n",
       "                                                              lambda_l2=0.005157393323802471,\n",
       "                                                              learning_rate...\n",
       "                                                              bagging_freq=4,\n",
       "                                                              colsample_bynode=0.5005423904042993,\n",
       "                                                              colsample_bytree=0.7573175155547233,\n",
       "                                                              lambda_l1=0.03335206514282942,\n",
       "                                                              lambda_l2=0.005157393323802471,\n",
       "                                                              learning_rate=0.030665870185795318,\n",
       "                                                              max_depth=7,\n",
       "                                                              min_data_in_leaf=29,\n",
       "                                                              n_iter=200,\n",
       "                                                              n_jobs=2,\n",
       "                                                              num_leaves=239,\n",
       "                                                              objective='binary',\n",
       "                                                              random_state=52,\n",
       "                                                              scale_pos_weight=1.648349898918236,\n",
       "                                                              verbosity=-1))]))],\n",
       "                 voting='soft')"
      ]
     },
     "execution_count": 12,
     "metadata": {},
     "output_type": "execute_result"
    }
   ],
   "source": [
    "X, y = df_train[feature_cols+ ['cnn_target']], df_train[target_col]\n",
    "\n",
    "estimator.fit(X, y)"
   ]
  },
  {
   "cell_type": "markdown",
   "id": "591f8e85",
   "metadata": {
    "papermill": {
     "duration": 0.004108,
     "end_time": "2025-02-06T14:15:20.751697",
     "exception": false,
     "start_time": "2025-02-06T14:15:20.747589",
     "status": "completed"
    },
    "tags": []
   },
   "source": [
    "### Prediction"
   ]
  },
  {
   "cell_type": "code",
   "execution_count": 13,
   "id": "f0d1bac7",
   "metadata": {
    "execution": {
     "iopub.execute_input": "2025-02-06T14:15:20.761600Z",
     "iopub.status.busy": "2025-02-06T14:15:20.761284Z",
     "iopub.status.idle": "2025-02-06T14:15:20.923875Z",
     "shell.execute_reply": "2025-02-06T14:15:20.922979Z"
    },
    "papermill": {
     "duration": 0.169925,
     "end_time": "2025-02-06T14:15:20.925918",
     "exception": false,
     "start_time": "2025-02-06T14:15:20.755993",
     "status": "completed"
    },
    "tags": []
   },
   "outputs": [
    {
     "data": {
      "text/html": [
       "<div>\n",
       "<style scoped>\n",
       "    .dataframe tbody tr th:only-of-type {\n",
       "        vertical-align: middle;\n",
       "    }\n",
       "\n",
       "    .dataframe tbody tr th {\n",
       "        vertical-align: top;\n",
       "    }\n",
       "\n",
       "    .dataframe thead th {\n",
       "        text-align: right;\n",
       "    }\n",
       "</style>\n",
       "<table border=\"1\" class=\"dataframe\">\n",
       "  <thead>\n",
       "    <tr style=\"text-align: right;\">\n",
       "      <th></th>\n",
       "      <th>target</th>\n",
       "    </tr>\n",
       "    <tr>\n",
       "      <th>isic_id</th>\n",
       "      <th></th>\n",
       "    </tr>\n",
       "  </thead>\n",
       "  <tbody>\n",
       "    <tr>\n",
       "      <th>ISIC_0015657</th>\n",
       "      <td>0.771535</td>\n",
       "    </tr>\n",
       "    <tr>\n",
       "      <th>ISIC_0015729</th>\n",
       "      <td>0.745023</td>\n",
       "    </tr>\n",
       "    <tr>\n",
       "      <th>ISIC_0015740</th>\n",
       "      <td>0.841428</td>\n",
       "    </tr>\n",
       "  </tbody>\n",
       "</table>\n",
       "</div>"
      ],
      "text/plain": [
       "                target\n",
       "isic_id               \n",
       "ISIC_0015657  0.771535\n",
       "ISIC_0015729  0.745023\n",
       "ISIC_0015740  0.841428"
      ]
     },
     "execution_count": 13,
     "metadata": {},
     "output_type": "execute_result"
    }
   ],
   "source": [
    "df_subm['target'] = estimator.predict_proba(df_test[feature_cols + ['cnn_target']])[:, 1]\n",
    "\n",
    "df_subm.to_csv('submission.csv')\n",
    "df_subm.head()"
   ]
  }
 ],
 "metadata": {
  "kaggle": {
   "accelerator": "none",
   "dataSources": [
    {
     "databundleVersionId": 9094797,
     "sourceId": 63056,
     "sourceType": "competition"
    },
    {
     "datasetId": 6610273,
     "sourceId": 10672242,
     "sourceType": "datasetVersion"
    },
    {
     "datasetId": 6611321,
     "sourceId": 10673673,
     "sourceType": "datasetVersion"
    },
    {
     "sourceId": 221012662,
     "sourceType": "kernelVersion"
    },
    {
     "sourceId": 221101918,
     "sourceType": "kernelVersion"
    }
   ],
   "dockerImageVersionId": 30746,
   "isGpuEnabled": false,
   "isInternetEnabled": false,
   "language": "python",
   "sourceType": "notebook"
  },
  "kernelspec": {
   "display_name": "Python 3",
   "language": "python",
   "name": "python3"
  },
  "language_info": {
   "codemirror_mode": {
    "name": "ipython",
    "version": 3
   },
   "file_extension": ".py",
   "mimetype": "text/x-python",
   "name": "python",
   "nbconvert_exporter": "python",
   "pygments_lexer": "ipython3",
   "version": "3.10.13"
  },
  "papermill": {
   "default_parameters": {},
   "duration": 108.179061,
   "end_time": "2025-02-06T14:15:21.649960",
   "environment_variables": {},
   "exception": null,
   "input_path": "__notebook__.ipynb",
   "output_path": "__notebook__.ipynb",
   "parameters": {},
   "start_time": "2025-02-06T14:13:33.470899",
   "version": "2.5.0"
  }
 },
 "nbformat": 4,
 "nbformat_minor": 5
}
